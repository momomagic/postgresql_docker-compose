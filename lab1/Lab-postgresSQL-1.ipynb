{
 "cells": [
  {
   "cell_type": "markdown",
   "source": [
    "# LAB 1 PostgresSQL första databas"
   ],
   "metadata": {
    "collapsed": false,
    "pycharm": {
     "name": "#%% md\n"
    }
   }
  },
  {
   "cell_type": "markdown",
   "source": [
    "Vi kommer att skapa en enkel databas med en tabell som heter (books)"
   ],
   "metadata": {
    "collapsed": false,
    "pycharm": {
     "name": "#%% md\n"
    }
   }
  },
  {
   "cell_type": "markdown",
   "source": [
    "![title](books.png)"
   ],
   "metadata": {
    "collapsed": false,
    "pycharm": {
     "name": "#%% md\n"
    }
   }
  },
  {
   "cell_type": "markdown",
   "source": [
    "## Skapa databas"
   ],
   "metadata": {
    "collapsed": false,
    "pycharm": {
     "name": "#%% md\n"
    }
   }
  },
  {
   "cell_type": "markdown",
   "source": [
    "CREATE DATABASE name\n",
    "    [ WITH ] [ OWNER [=] user_name ]\n",
    "           [ TEMPLATE [=] template ]\n",
    "           [ ENCODING [=] encoding ]\n",
    "           [ STRATEGY [=] strategy ] ]\n",
    "           [ LOCALE [=] locale ]\n",
    "           [ LC_COLLATE [=] lc_collate ]\n",
    "           [ LC_CTYPE [=] lc_ctype ]\n",
    "           [ ICU_LOCALE [=] icu_locale ]\n",
    "           [ LOCALE_PROVIDER [=] locale_provider ]\n",
    "           [ COLLATION_VERSION = collation_version ]\n",
    "           [ TABLESPACE [=] tablespace_name ]\n",
    "           [ ALLOW_CONNECTIONS [=] allowconn ]\n",
    "           [ CONNECTION LIMIT [=] connlimit ]\n",
    "           [ IS_TEMPLATE [=] istemplate ]\n",
    "           [ OID [=] oid ]"
   ],
   "metadata": {
    "collapsed": false,
    "pycharm": {
     "name": "#%% md\n"
    }
   }
  },
  {
   "cell_type": "markdown",
   "source": [
    "## Skapa en tabell"
   ],
   "metadata": {
    "collapsed": false,
    "pycharm": {
     "name": "#%% md\n"
    }
   }
  },
  {
   "cell_type": "code",
   "execution_count": null,
   "outputs": [],
   "source": [
    "CREATE TABLE [IF NOT EXISTS] table_name (\n",
    "   column1 datatype(length) column_contraint,\n",
    "   column2 datatype(length) column_contraint,\n",
    "   column3 datatype(length) column_contraint,\n",
    "   table_constraints\n",
    ");"
   ],
   "metadata": {
    "collapsed": false,
    "pycharm": {
     "name": "#%%\n"
    }
   }
  },
  {
   "cell_type": "code",
   "execution_count": null,
   "outputs": [],
   "source": [
    "CREATE TABLE BOOKS(ID INT PRIMARY KEY,\n",
    "\t\t\t\t   TITLE VARCHAR (100) UNIQUE NOT NULL,\n",
    "\t\t\t\t   AUTHOR VARCHAR (100) NOT NULL,\n",
    "\t\t\t\t   GENRE VARCHAR (20),\n",
    "\t\t\t\t   PUB_YEAR INT);"
   ],
   "metadata": {
    "collapsed": false,
    "pycharm": {
     "name": "#%%\n"
    }
   }
  },
  {
   "cell_type": "code",
   "execution_count": null,
   "outputs": [],
   "source": [
    "SELECT * from books;"
   ],
   "metadata": {
    "collapsed": false,
    "pycharm": {
     "name": "#%%\n"
    }
   }
  },
  {
   "cell_type": "code",
   "execution_count": null,
   "outputs": [],
   "source": [
    "INSERT INTO books(id, title, author,genre,pub_year) VALUES(1,'postgreSQL introduction','author','education',2022);"
   ],
   "metadata": {
    "collapsed": false,
    "pycharm": {
     "name": "#%%\n"
    }
   }
  },
  {
   "cell_type": "markdown",
   "source": [
    "![title](patrons.png)"
   ],
   "metadata": {
    "collapsed": false,
    "pycharm": {
     "name": "#%% md\n"
    }
   }
  }
 ],
 "metadata": {
  "kernelspec": {
   "display_name": "Python 3",
   "language": "python",
   "name": "python3"
  },
  "language_info": {
   "codemirror_mode": {
    "name": "ipython",
    "version": 2
   },
   "file_extension": ".py",
   "mimetype": "text/x-python",
   "name": "python",
   "nbconvert_exporter": "python",
   "pygments_lexer": "ipython2",
   "version": "2.7.6"
  }
 },
 "nbformat": 4,
 "nbformat_minor": 0
}