{
 "cells": [
  {
   "cell_type": "markdown",
   "id": "4acd9d91-9356-4b03-b58a-c69c80d33d86",
   "metadata": {
    "pycharm": {
     "name": "#%% md\n"
    }
   },
   "source": [
    "# Connecting Python with databases"
   ]
  },
  {
   "cell_type": "markdown",
   "id": "f88bf4b6-20df-4f19-b0c4-be48d831336c",
   "metadata": {
    "pycharm": {
     "name": "#%% md\n"
    }
   },
   "source": [
    "### Required packages for connecting python with postgreSQL"
   ]
  },
  {
   "cell_type": "code",
   "execution_count": 2,
   "id": "be4ff56c-78de-4006-a770-2586266b6c6a",
   "metadata": {
    "pycharm": {
     "name": "#%%\n"
    }
   },
   "outputs": [
    {
     "name": "stdout",
     "output_type": "stream",
     "text": [
      "Requirement already satisfied: psycopg2 in /Users/mo/Developer/nakadimin/postgreSQL-docker-compose/venv/lib/python3.8/site-packages (2.9.5)\n",
      "\n",
      "\u001B[1m[\u001B[0m\u001B[34;49mnotice\u001B[0m\u001B[1;39;49m]\u001B[0m\u001B[39;49m A new release of pip available: \u001B[0m\u001B[31;49m22.3\u001B[0m\u001B[39;49m -> \u001B[0m\u001B[32;49m22.3.1\u001B[0m\n",
      "\u001B[1m[\u001B[0m\u001B[34;49mnotice\u001B[0m\u001B[1;39;49m]\u001B[0m\u001B[39;49m To update, run: \u001B[0m\u001B[32;49mpip install --upgrade pip\u001B[0m\n"
     ]
    }
   ],
   "source": [
    "!pip install psycopg2"
   ]
  },
  {
   "cell_type": "markdown",
   "id": "863add87-1227-4bb6-962d-63bb48d57ba9",
   "metadata": {
    "pycharm": {
     "name": "#%% md\n"
    }
   },
   "source": [
    "## Things to do before starting with the notebook\n",
    "* You should have the database server up and running\n",
    "* You can create a user only for this notebook with permission to a given database"
   ]
  },
  {
   "cell_type": "code",
   "execution_count": 3,
   "id": "cda16fb1-d43e-4c03-a0d7-f4dd81266542",
   "metadata": {
    "pycharm": {
     "name": "#%%\n"
    }
   },
   "outputs": [],
   "source": [
    "import psycopg2 as postgres"
   ]
  },
  {
   "cell_type": "markdown",
   "id": "b25785e4-3fd2-4a7b-ab3c-8c9c89cc68f7",
   "metadata": {
    "pycharm": {
     "name": "#%% md\n"
    }
   },
   "source": [
    "### Establishing the connection"
   ]
  },
  {
   "cell_type": "code",
   "execution_count": 8,
   "id": "25d92b85-eadb-40a7-9389-f0e4fd160be8",
   "metadata": {
    "pycharm": {
     "name": "#%%\n"
    }
   },
   "outputs": [],
   "source": [
    "connection = postgres.connect(\n",
    "   database=\"postgres\",\n",
    "    user='postgres',\n",
    "    password='postgres',\n",
    "    host='127.0.0.1',\n",
    "    port= '5432'\n",
    ")\n",
    "connection.autocommit = True"
   ]
  },
  {
   "cell_type": "markdown",
   "id": "ac7fed59-db78-4f42-8f3e-3ac6f7a1e6ab",
   "metadata": {
    "pycharm": {
     "name": "#%% md\n"
    }
   },
   "source": [
    "### Holding the cursor"
   ]
  },
  {
   "cell_type": "code",
   "execution_count": 7,
   "id": "4212e8d3-edf0-484a-b945-3929f28e33e9",
   "metadata": {
    "pycharm": {
     "name": "#%%\n"
    }
   },
   "outputs": [
    {
     "data": {
      "text/plain": [
       "<cursor object at 0x104d744f0; closed: 0>"
      ]
     },
     "execution_count": 7,
     "metadata": {},
     "output_type": "execute_result"
    }
   ],
   "source": [
    "cursor = connection.cursor()"
   ]
  },
  {
   "cell_type": "markdown",
   "id": "eb6fce7f-aaad-41f9-9a21-32ba0c3c97c2",
   "metadata": {
    "pycharm": {
     "name": "#%% md\n"
    }
   },
   "source": [
    "## Organizing connection to python in a single query"
   ]
  },
  {
   "cell_type": "code",
   "execution_count": null,
   "outputs": [],
   "source": [
    " crypt('johnspassword', gen_salt('bf'))"
   ],
   "metadata": {
    "collapsed": false,
    "pycharm": {
     "name": "#%%\n"
    }
   }
  },
  {
   "cell_type": "code",
   "execution_count": null,
   "outputs": [],
   "source": [
    "def execute_query(connection, query):\n",
    "    cursor = connection.cursor()\n",
    "    cursor.execute(query)"
   ],
   "metadata": {
    "collapsed": false,
    "pycharm": {
     "name": "#%%\n"
    }
   }
  },
  {
   "cell_type": "code",
   "execution_count": 30,
   "id": "98c97f65-f346-41e2-b08d-7d5d25412ec2",
   "metadata": {
    "pycharm": {
     "name": "#%%\n"
    }
   },
   "outputs": [],
   "source": [
    "def execute_query(connection, query):\n",
    "    cursor = connection.cursor()\n",
    "    cursor.execute(query)"
   ]
  },
  {
   "cell_type": "code",
   "execution_count": 10,
   "id": "893efd31-3907-4630-8162-f492b50f6de5",
   "metadata": {
    "pycharm": {
     "name": "#%%\n"
    }
   },
   "outputs": [],
   "source": [
    "def execute_query_with_cntx_mngr(connection, query):\n",
    "    with connection:\n",
    "        with connection.cursor() as curs:\n",
    "            curs.execute(query)"
   ]
  },
  {
   "cell_type": "markdown",
   "id": "5f889f90-7938-40cc-8b2e-8690cf549d5f",
   "metadata": {
    "pycharm": {
     "name": "#%% md\n"
    }
   },
   "source": [
    "## Use case"
   ]
  },
  {
   "cell_type": "markdown",
   "id": "58b0f385",
   "metadata": {
    "pycharm": {
     "name": "#%% md\n"
    }
   },
   "source": [
    "![usecase](img.png)"
   ]
  },
  {
   "cell_type": "code",
   "execution_count": 26,
   "id": "e3526d45",
   "metadata": {
    "pycharm": {
     "name": "#%%\n"
    }
   },
   "outputs": [
    {
     "ename": "NameError",
     "evalue": "name 'OperationalError' is not defined",
     "output_type": "error",
     "traceback": [
      "\u001B[0;31m---------------------------------------------------------------------------\u001B[0m",
      "\u001B[0;31mSyntaxError\u001B[0m                               Traceback (most recent call last)",
      "Cell \u001B[0;32mIn [24], line 4\u001B[0m, in \u001B[0;36mexecute_query\u001B[0;34m(connection, query)\u001B[0m\n\u001B[1;32m      3\u001B[0m \u001B[38;5;28;01mtry\u001B[39;00m:\n\u001B[0;32m----> 4\u001B[0m     \u001B[43mcursor\u001B[49m\u001B[38;5;241;43m.\u001B[39;49m\u001B[43mexecute\u001B[49m\u001B[43m(\u001B[49m\u001B[43mquery\u001B[49m\u001B[43m)\u001B[49m\n\u001B[1;32m      5\u001B[0m \u001B[38;5;28;01mexcept\u001B[39;00m OperationalError \u001B[38;5;28;01mas\u001B[39;00m e:\n",
      "\u001B[0;31mSyntaxError\u001B[0m: syntax error at end of input\nLINE 8: \n        ^\n",
      "\nDuring handling of the above exception, another exception occurred:\n",
      "\u001B[0;31mNameError\u001B[0m                                 Traceback (most recent call last)",
      "Cell \u001B[0;32mIn [26], line 9\u001B[0m\n\u001B[1;32m      1\u001B[0m userstable \u001B[38;5;241m=\u001B[39m \u001B[38;5;124m\"\"\"\u001B[39m\n\u001B[1;32m      2\u001B[0m \u001B[38;5;124mCREATE TABLE IF NOT EXISTS users(\u001B[39m\n\u001B[1;32m      3\u001B[0m \u001B[38;5;124muserId SERIAL,\u001B[39m\n\u001B[0;32m   (...)\u001B[0m\n\u001B[1;32m      7\u001B[0m \u001B[38;5;124mgender CHAR(10)\u001B[39m\n\u001B[1;32m      8\u001B[0m \u001B[38;5;124m\"\"\"\u001B[39m\n\u001B[0;32m----> 9\u001B[0m \u001B[43mexecute_query\u001B[49m\u001B[43m(\u001B[49m\u001B[43mconnection\u001B[49m\u001B[43m,\u001B[49m\u001B[43muserstable\u001B[49m\u001B[43m)\u001B[49m\n",
      "Cell \u001B[0;32mIn [24], line 5\u001B[0m, in \u001B[0;36mexecute_query\u001B[0;34m(connection, query)\u001B[0m\n\u001B[1;32m      3\u001B[0m \u001B[38;5;28;01mtry\u001B[39;00m:\n\u001B[1;32m      4\u001B[0m     cursor\u001B[38;5;241m.\u001B[39mexecute(query)\n\u001B[0;32m----> 5\u001B[0m \u001B[38;5;28;01mexcept\u001B[39;00m \u001B[43mOperationalError\u001B[49m \u001B[38;5;28;01mas\u001B[39;00m e:\n\u001B[1;32m      6\u001B[0m     \u001B[38;5;28mprint\u001B[39m(\u001B[38;5;124mf\u001B[39m\u001B[38;5;124m\"\u001B[39m\u001B[38;5;124mThe error \u001B[39m\u001B[38;5;124m'\u001B[39m\u001B[38;5;132;01m{\u001B[39;00me\u001B[38;5;132;01m}\u001B[39;00m\u001B[38;5;124m'\u001B[39m\u001B[38;5;124m occurred\u001B[39m\u001B[38;5;124m\"\u001B[39m)\n",
      "\u001B[0;31mNameError\u001B[0m: name 'OperationalError' is not defined"
     ]
    }
   ],
   "source": [
    "userstable = \"\"\"\n",
    "CREATE TABLE IF NOT EXISTS users(\n",
    "userId SERIAL,\n",
    "email VARCHAR(200),\n",
    "name VARCHAR(255),\n",
    "age SMALLINT,\n",
    "gender CHAR(10)\n",
    "\"\"\"\n",
    "execute_query(connection,userstable)"
   ]
  },
  {
   "cell_type": "code",
   "execution_count": null,
   "id": "eeac1070",
   "metadata": {},
   "outputs": [],
   "source": []
  },
  {
   "cell_type": "code",
   "execution_count": 27,
   "id": "a1de4d89",
   "metadata": {
    "pycharm": {
     "name": "#%%\n"
    }
   },
   "outputs": [],
   "source": [
    "with connection:\n",
    "        with connection.cursor() as curs:\n",
    "            curs.execute(\"INSERT INTO users (email, name,age,gender) VALUES (%s,%s,%s,%s)\",\n",
    "              (\"test2@test2.com\",\"test user number 2\",20,\"FEMALE\"))"
   ]
  },
  {
   "cell_type": "code",
   "execution_count": 28,
   "id": "dfee8e62",
   "metadata": {
    "pycharm": {
     "name": "#%%\n"
    }
   },
   "outputs": [
    {
     "name": "stdout",
     "output_type": "stream",
     "text": [
      "(1, 'test@test.com', 'test user', 24, 'MALE      ')\n",
      "(2, 'test2@test2.com', 'test user number 2', 20, 'FEMALE    ')\n"
     ]
    }
   ],
   "source": [
    "with connection:\n",
    "    with connection.cursor() as curs:\n",
    "        curs.execute(\"SELECT * from users;\")\n",
    "        for record in curs:\n",
    "            print(record)"
   ]
  }
 ],
 "metadata": {
  "kernelspec": {
   "display_name": "venv",
   "language": "python",
   "name": "venv"
  },
  "language_info": {
   "codemirror_mode": {
    "name": "ipython",
    "version": 3
   },
   "file_extension": ".py",
   "mimetype": "text/x-python",
   "name": "python",
   "nbconvert_exporter": "python",
   "pygments_lexer": "ipython3",
   "version": "3.8.15"
  }
 },
 "nbformat": 4,
 "nbformat_minor": 5
}