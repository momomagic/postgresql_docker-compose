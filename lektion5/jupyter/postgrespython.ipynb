{
 "cells": [
  {
   "cell_type": "markdown",
   "id": "4acd9d91-9356-4b03-b58a-c69c80d33d86",
   "metadata": {
    "pycharm": {
     "name": "#%% md\n"
    }
   },
   "source": [
    "# Connecting Python with databases"
   ]
  },
  {
   "cell_type": "markdown",
   "id": "f88bf4b6-20df-4f19-b0c4-be48d831336c",
   "metadata": {
    "pycharm": {
     "name": "#%% md\n"
    }
   },
   "source": [
    "### Required packages for connecting python with postgreSQL"
   ]
  },
  {
   "cell_type": "code",
   "execution_count": 1,
   "id": "be4ff56c-78de-4006-a770-2586266b6c6a",
   "metadata": {
    "pycharm": {
     "name": "#%%\n"
    }
   },
   "outputs": [
    {
     "name": "stdout",
     "output_type": "stream",
     "text": [
      "Requirement already satisfied: psycopg2 in /Users/mo/Developer/nakadimin/postgreSQL-docker-compose/venv/lib/python3.8/site-packages (2.9.5)\r\n",
      "\r\n",
      "\u001B[1m[\u001B[0m\u001B[34;49mnotice\u001B[0m\u001B[1;39;49m]\u001B[0m\u001B[39;49m A new release of pip available: \u001B[0m\u001B[31;49m22.3\u001B[0m\u001B[39;49m -> \u001B[0m\u001B[32;49m22.3.1\u001B[0m\r\n",
      "\u001B[1m[\u001B[0m\u001B[34;49mnotice\u001B[0m\u001B[1;39;49m]\u001B[0m\u001B[39;49m To update, run: \u001B[0m\u001B[32;49mpip install --upgrade pip\u001B[0m\r\n"
     ]
    }
   ],
   "source": [
    "!pip install psycopg2"
   ]
  },
  {
   "cell_type": "markdown",
   "id": "863add87-1227-4bb6-962d-63bb48d57ba9",
   "metadata": {
    "pycharm": {
     "name": "#%% md\n"
    }
   },
   "source": [
    "## Things to do before starting with the notebook\n",
    "* You should have the database server up and running\n",
    "* You can create a user only for this notebook with permission to a given database"
   ]
  },
  {
   "cell_type": "code",
   "execution_count": 2,
   "id": "cda16fb1-d43e-4c03-a0d7-f4dd81266542",
   "metadata": {
    "pycharm": {
     "name": "#%%\n"
    }
   },
   "outputs": [],
   "source": [
    "import psycopg2"
   ]
  },
  {
   "cell_type": "markdown",
   "id": "b25785e4-3fd2-4a7b-ab3c-8c9c89cc68f7",
   "metadata": {
    "pycharm": {
     "name": "#%% md\n"
    }
   },
   "source": [
    "### Establishing the connection"
   ]
  },
  {
   "cell_type": "code",
   "execution_count": 5,
   "id": "25d92b85-eadb-40a7-9389-f0e4fd160be8",
   "metadata": {
    "pycharm": {
     "name": "#%%\n"
    }
   },
   "outputs": [],
   "source": [
    "connection = psycopg2.connect(\n",
    "   database=\"postgres\",\n",
    "    user='postgres',\n",
    "    password='postgres',\n",
    "    host='127.0.0.1',\n",
    "    port= '5432'\n",
    ")"
   ]
  },
  {
   "cell_type": "markdown",
   "id": "ac7fed59-db78-4f42-8f3e-3ac6f7a1e6ab",
   "metadata": {
    "pycharm": {
     "name": "#%% md\n"
    }
   },
   "source": [
    "### Holding the cursor"
   ]
  },
  {
   "cell_type": "code",
   "execution_count": 6,
   "id": "4212e8d3-edf0-484a-b945-3929f28e33e9",
   "metadata": {
    "pycharm": {
     "name": "#%%\n"
    }
   },
   "outputs": [],
   "source": [
    "cursor = connection.cursor()"
   ]
  },
  {
   "cell_type": "markdown",
   "id": "eb6fce7f-aaad-41f9-9a21-32ba0c3c97c2",
   "metadata": {
    "pycharm": {
     "name": "#%% md\n"
    }
   },
   "source": [
    "## Organizing connection to python in a single query"
   ]
  },
  {
   "cell_type": "code",
   "execution_count": 16,
   "id": "98c97f65-f346-41e2-b08d-7d5d25412ec2",
   "metadata": {
    "pycharm": {
     "name": "#%%\n"
    }
   },
   "outputs": [],
   "source": [
    "def execute_query(connection, query):\n",
    "    #Do we really need autocommit\n",
    "    connection.autocommit = True\n",
    "    cursor = connection.cursor()\n",
    "    try:\n",
    "        cursor.execute(query,vars)\n",
    "    except OperationalError as e:\n",
    "        print(f\"The error '{e}' occurred\")"
   ]
  },
  {
   "cell_type": "code",
   "execution_count": 8,
   "id": "893efd31-3907-4630-8162-f492b50f6de5",
   "metadata": {
    "pycharm": {
     "name": "#%%\n"
    }
   },
   "outputs": [],
   "source": [
    "def execute_query_with_cntx_mngr(connection, query):\n",
    "    with connection:\n",
    "        with connection.cursor() as curs:\n",
    "            curs.execute(query)"
   ]
  },
  {
   "cell_type": "markdown",
   "id": "5f889f90-7938-40cc-8b2e-8690cf549d5f",
   "metadata": {
    "pycharm": {
     "name": "#%% md\n"
    }
   },
   "source": [
    "## Use case"
   ]
  },
  {
   "cell_type": "markdown",
   "source": [
    "![usecase](img.png)"
   ],
   "metadata": {
    "collapsed": false,
    "pycharm": {
     "name": "#%% md\n"
    }
   }
  },
  {
   "cell_type": "code",
   "execution_count": 17,
   "outputs": [],
   "source": [
    "userstable = \"\"\"\n",
    "CREATE TABLE IF NOT EXISTS users(\n",
    "userId SERIAL,\n",
    "email VARCHAR(200),\n",
    "name VARCHAR(255),\n",
    "age SMALLINT,\n",
    "gender CHAR(10));\n",
    "\"\"\"\n",
    "execute_query(connection,userstable)"
   ],
   "metadata": {
    "collapsed": false,
    "pycharm": {
     "name": "#%%\n"
    }
   }
  },
  {
   "cell_type": "code",
   "execution_count": 20,
   "outputs": [],
   "source": [
    "with connection:\n",
    "        with connection.cursor() as curs:\n",
    "            curs.execute(\"INSERT INTO users (email, name,age,gender) VALUES (%s, %s,%s,%s)\",\n",
    "              (\"test@test.com\",\"test user\",24,\"MALE\"))"
   ],
   "metadata": {
    "collapsed": false,
    "pycharm": {
     "name": "#%%\n"
    }
   }
  },
  {
   "cell_type": "code",
   "execution_count": 21,
   "outputs": [
    {
     "ename": "TypeError",
     "evalue": "'NoneType' object is not iterable",
     "output_type": "error",
     "traceback": [
      "\u001B[0;31m---------------------------------------------------------------------------\u001B[0m",
      "\u001B[0;31mTypeError\u001B[0m                                 Traceback (most recent call last)",
      "Cell \u001B[0;32mIn [21], line 3\u001B[0m\n\u001B[1;32m      1\u001B[0m \u001B[38;5;28;01mwith\u001B[39;00m connection:\n\u001B[1;32m      2\u001B[0m     \u001B[38;5;28;01mwith\u001B[39;00m connection\u001B[38;5;241m.\u001B[39mcursor() \u001B[38;5;28;01mas\u001B[39;00m curs:\n\u001B[0;32m----> 3\u001B[0m         \u001B[38;5;28;01mfor\u001B[39;00m record \u001B[38;5;129;01min\u001B[39;00m curs\u001B[38;5;241m.\u001B[39mexecute(\u001B[38;5;124m\"\u001B[39m\u001B[38;5;124mSELECT * from users\u001B[39m\u001B[38;5;124m\"\u001B[39m):\n\u001B[1;32m      4\u001B[0m             \u001B[38;5;28mprint\u001B[39m(record)\n",
      "\u001B[0;31mTypeError\u001B[0m: 'NoneType' object is not iterable"
     ]
    }
   ],
   "source": [
    "with connection:\n",
    "    with connection.cursor() as curs:\n",
    "        for record in curs.execute(\"SELECT * from users\"):\n",
    "            print(record)"
   ],
   "metadata": {
    "collapsed": false,
    "pycharm": {
     "name": "#%%\n"
    }
   }
  }
 ],
 "metadata": {
  "kernelspec": {
   "name": "venv",
   "language": "python",
   "display_name": "venv"
  },
  "language_info": {
   "codemirror_mode": {
    "name": "ipython",
    "version": 3
   },
   "file_extension": ".py",
   "mimetype": "text/x-python",
   "name": "python",
   "nbconvert_exporter": "python",
   "pygments_lexer": "ipython3",
   "version": "3.8.13"
  }
 },
 "nbformat": 4,
 "nbformat_minor": 5
}