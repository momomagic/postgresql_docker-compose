{
 "cells": [
  {
   "cell_type": "markdown",
   "id": "4acd9d91-9356-4b03-b58a-c69c80d33d86",
   "metadata": {
    "pycharm": {
     "name": "#%% md\n"
    }
   },
   "source": [
    "# Connecting Python with databases"
   ]
  },
  {
   "cell_type": "markdown",
   "id": "f88bf4b6-20df-4f19-b0c4-be48d831336c",
   "metadata": {
    "pycharm": {
     "name": "#%% md\n"
    }
   },
   "source": [
    "### Required packages for connecting python with postgreSQL"
   ]
  },
  {
   "cell_type": "code",
   "execution_count": 2,
   "id": "be4ff56c-78de-4006-a770-2586266b6c6a",
   "metadata": {
    "pycharm": {
     "name": "#%%\n"
    }
   },
   "outputs": [
    {
     "name": "stdout",
     "output_type": "stream",
     "text": [
      "Requirement already satisfied: psycopg2 in /Users/mo/Developer/nakadimin/postgreSQL-docker-compose/venv/lib/python3.8/site-packages (2.9.5)\n",
      "\n",
      "\u001b[1m[\u001b[0m\u001b[34;49mnotice\u001b[0m\u001b[1;39;49m]\u001b[0m\u001b[39;49m A new release of pip available: \u001b[0m\u001b[31;49m22.3\u001b[0m\u001b[39;49m -> \u001b[0m\u001b[32;49m22.3.1\u001b[0m\n",
      "\u001b[1m[\u001b[0m\u001b[34;49mnotice\u001b[0m\u001b[1;39;49m]\u001b[0m\u001b[39;49m To update, run: \u001b[0m\u001b[32;49mpip install --upgrade pip\u001b[0m\n"
     ]
    }
   ],
   "source": [
    "!pip install psycopg2"
   ]
  },
  {
   "cell_type": "markdown",
   "id": "863add87-1227-4bb6-962d-63bb48d57ba9",
   "metadata": {
    "pycharm": {
     "name": "#%% md\n"
    }
   },
   "source": [
    "## Things to do before starting with the notebook\n",
    "* You should have the database server up and running\n",
    "* You can create a user only for this notebook with permission to a given database"
   ]
  },
  {
   "cell_type": "code",
   "execution_count": 3,
   "id": "cda16fb1-d43e-4c03-a0d7-f4dd81266542",
   "metadata": {
    "pycharm": {
     "name": "#%%\n"
    }
   },
   "outputs": [],
   "source": [
    "import psycopg2 as postgres"
   ]
  },
  {
   "cell_type": "markdown",
   "id": "b25785e4-3fd2-4a7b-ab3c-8c9c89cc68f7",
   "metadata": {
    "pycharm": {
     "name": "#%% md\n"
    }
   },
   "source": [
    "### Establishing the connection"
   ]
  },
  {
   "cell_type": "code",
   "execution_count": 130,
   "id": "25d92b85-eadb-40a7-9389-f0e4fd160be8",
   "metadata": {
    "pycharm": {
     "name": "#%%\n"
    }
   },
   "outputs": [],
   "source": [
    "connection.close()\n",
    "connection = postgres.connect(\n",
    "   database=\"postgres\",\n",
    "    user='postgres',\n",
    "    password='postgres',\n",
    "    host='127.0.0.1',\n",
    "    port= '5432'\n",
    ")\n",
    "connection.autocommit = False"
   ]
  },
  {
   "cell_type": "markdown",
   "id": "ac7fed59-db78-4f42-8f3e-3ac6f7a1e6ab",
   "metadata": {
    "pycharm": {
     "name": "#%% md\n"
    }
   },
   "source": [
    "### Holding the cursor"
   ]
  },
  {
   "cell_type": "code",
   "execution_count": 115,
   "id": "4212e8d3-edf0-484a-b945-3929f28e33e9",
   "metadata": {
    "pycharm": {
     "name": "#%%\n"
    }
   },
   "outputs": [],
   "source": [
    "cursor = connection.cursor()"
   ]
  },
  {
   "cell_type": "markdown",
   "id": "eb6fce7f-aaad-41f9-9a21-32ba0c3c97c2",
   "metadata": {
    "pycharm": {
     "name": "#%% md\n"
    }
   },
   "source": [
    "## Organizing connection to python in a single query"
   ]
  },
  {
   "cell_type": "code",
   "execution_count": 30,
   "id": "98c97f65-f346-41e2-b08d-7d5d25412ec2",
   "metadata": {
    "pycharm": {
     "name": "#%%\n"
    }
   },
   "outputs": [],
   "source": [
    "def execute_query(connection, query):\n",
    "    cursor = connection.cursor()\n",
    "    cursor.execute(query)"
   ]
  },
  {
   "cell_type": "markdown",
   "id": "7456ec0f",
   "metadata": {},
   "source": [
    "#### Always use context manager so let python handle connection with errors  , as below"
   ]
  },
  {
   "cell_type": "code",
   "execution_count": 10,
   "id": "893efd31-3907-4630-8162-f492b50f6de5",
   "metadata": {
    "pycharm": {
     "name": "#%%\n"
    }
   },
   "outputs": [],
   "source": [
    "def execute_query_with_cntx_mngr(connection, query):\n",
    "    with connection:\n",
    "        with connection.cursor() as curs:\n",
    "            curs.execute(query)"
   ]
  },
  {
   "cell_type": "markdown",
   "id": "5f889f90-7938-40cc-8b2e-8690cf549d5f",
   "metadata": {
    "pycharm": {
     "name": "#%% md\n"
    }
   },
   "source": [
    "## Use case"
   ]
  },
  {
   "cell_type": "markdown",
   "id": "58b0f385",
   "metadata": {
    "pycharm": {
     "name": "#%% md\n"
    }
   },
   "source": [
    "![usecase](img.png)"
   ]
  },
  {
   "cell_type": "markdown",
   "id": "d3250ce0",
   "metadata": {},
   "source": [
    "#### Use one cell for all queries which could be used later in jupyter "
   ]
  },
  {
   "cell_type": "code",
   "execution_count": 107,
   "id": "e3526d45",
   "metadata": {
    "pycharm": {
     "name": "#%%\n"
    }
   },
   "outputs": [],
   "source": [
    "userstable = \"\"\"\n",
    "CREATE TABLE IF NOT EXISTS users(\n",
    "userId SERIAL primary key,\n",
    "email VARCHAR(200),\n",
    "name VARCHAR(255),\n",
    "age SMALLINT,\n",
    "gender CHAR(10)\n",
    "\n",
    "\"\"\"\n",
    "\n",
    "poststable = \"\"\"\n",
    "CREATE TABLE IF NOT EXISTS posts(\n",
    "id SERIAL PRIMARY KEY,\n",
    "title VARCHAR(200) NOT NULL,\n",
    "description TEXT,\n",
    "content TEXT,\n",
    "userId SERIAL NOT NULL REFERENCES users(userId)\n",
    ")\n",
    "\"\"\"\n",
    "fetch_all_posts_sql = \"SELECT * from posts;\"\n",
    "insert_user_sql = \"INSERT INTO users (email, name,age,gender) VALUES (%s,%s,%s,%s);\"\n",
    "insert_posts_sql = \"INSERT INTO posts (title, description,content,userId) VALUES (%s,%s,%s,%s);\""
   ]
  },
  {
   "cell_type": "markdown",
   "id": "9294ae4c",
   "metadata": {},
   "source": [
    "#### If you want to execute SQL query so it will be like this..."
   ]
  },
  {
   "cell_type": "code",
   "execution_count": 116,
   "id": "7c9ab798",
   "metadata": {},
   "outputs": [],
   "source": [
    "cursor.execute(poststable)"
   ]
  },
  {
   "cell_type": "markdown",
   "id": "9866cd71",
   "metadata": {},
   "source": [
    "#### Utility function fro fetching 100 from given query\n",
    " * Can you add 100 as default parameter and allow users to change it"
   ]
  },
  {
   "cell_type": "code",
   "execution_count": 83,
   "id": "2453f21e",
   "metadata": {},
   "outputs": [],
   "source": [
    "def fetch_all_from_table(connection,query):\n",
    "    with connection.cursor() as curs:\n",
    "        curs.execute(query)\n",
    "        return curs.fetchmany(100)"
   ]
  },
  {
   "cell_type": "markdown",
   "id": "848eeb08",
   "metadata": {},
   "source": [
    "#### Fetching all posts using fetch_all_from_table function"
   ]
  },
  {
   "cell_type": "code",
   "execution_count": 90,
   "id": "84ab7e07",
   "metadata": {},
   "outputs": [],
   "source": [
    "def fetch_all_posts(connection):\n",
    "    print(fetch_all_from_table(connection,fetch_all_posts_sql))\n",
    "    "
   ]
  },
  {
   "cell_type": "markdown",
   "id": "ed9c7367",
   "metadata": {},
   "source": [
    "#### Call fetch_all_posts function"
   ]
  },
  {
   "cell_type": "code",
   "execution_count": 91,
   "id": "599793ce",
   "metadata": {},
   "outputs": [
    {
     "name": "stdout",
     "output_type": "stream",
     "text": [
      "[]\n"
     ]
    }
   ],
   "source": [
    "fetch_all_posts(connection)"
   ]
  },
  {
   "cell_type": "markdown",
   "id": "019888f1",
   "metadata": {},
   "source": [
    "#### Fetch all users using utility function"
   ]
  },
  {
   "cell_type": "code",
   "execution_count": 59,
   "id": "fc0a17ce",
   "metadata": {},
   "outputs": [],
   "source": [
    "def fetch_all_users(connection):\n",
    "        for record in fetch_all_from_table(connection,\"SELECT * from users;\")\n",
    "            print(record)"
   ]
  },
  {
   "cell_type": "markdown",
   "id": "e00666f9",
   "metadata": {},
   "source": [
    "#### Create post row in posts "
   ]
  },
  {
   "cell_type": "code",
   "execution_count": 93,
   "id": "9ba035d7",
   "metadata": {},
   "outputs": [],
   "source": [
    "def post(userId,title,description,content):\n",
    "    cursor = connection.cursor()\n",
    "    cursor.execute(insert_posts_sql,(title,description,content,userId))"
   ]
  },
  {
   "cell_type": "markdown",
   "id": "beb3466f",
   "metadata": {},
   "source": [
    "#### Simple login function to retrieve userId from users table where matching an email"
   ]
  },
  {
   "cell_type": "code",
   "execution_count": null,
   "id": "44e86998",
   "metadata": {},
   "outputs": [],
   "source": [
    "def login(email):\n",
    "    with connection:\n",
    "        with connection.cursor() as cursor:\n",
    "            print(cursor.mogrify(f\"SELECT userId FROM users WHERE email LIKE '{email}';\"))\n",
    "            cursor.execute(f\"SELECT userId FROM users WHERE email LIKE '{email}';\")\n",
    "            return cursor.fetchone()"
   ]
  },
  {
   "cell_type": "markdown",
   "id": "2a046af8",
   "metadata": {},
   "source": [
    "#### use login function and store userId into user_session"
   ]
  },
  {
   "cell_type": "code",
   "execution_count": 140,
   "id": "7dce9f46",
   "metadata": {},
   "outputs": [
    {
     "name": "stdout",
     "output_type": "stream",
     "text": [
      "b\"SELECT userId FROM users WHERE email LIKE 'test5@test17.com';\"\n"
     ]
    }
   ],
   "source": [
    "user_session = login('test5@test17.com')"
   ]
  },
  {
   "cell_type": "markdown",
   "id": "7684e522",
   "metadata": {},
   "source": [
    "#### When loggedin and user id is saved in user_session , use it to post a new row in posts "
   ]
  },
  {
   "cell_type": "code",
   "execution_count": 127,
   "id": "57a98f08",
   "metadata": {},
   "outputs": [
    {
     "name": "stdout",
     "output_type": "stream",
     "text": [
      "b\"SELECT userId FROM users WHERE email LIKE 'test5@test17.com';\"\n",
      "[(1, 'title', 'description', 'content', 1), (2, 'title', 'description', 'content', 1), (4, 'my new post', 'description', 'content', 17)]\n"
     ]
    }
   ],
   "source": [
    "post(user_session,'my new post','description','content')"
   ]
  },
  {
   "cell_type": "markdown",
   "id": "f1fdfca8",
   "metadata": {},
   "source": [
    "#### Now you can select all posts in posts table again "
   ]
  },
  {
   "cell_type": "code",
   "execution_count": 122,
   "id": "5a8184a5",
   "metadata": {},
   "outputs": [],
   "source": [
    "fetch_all_posts(connection)"
   ]
  },
  {
   "cell_type": "markdown",
   "id": "38826b44",
   "metadata": {},
   "source": [
    "#### We need a function to create new users"
   ]
  },
  {
   "cell_type": "code",
   "execution_count": 80,
   "id": "ecf5f4ee",
   "metadata": {},
   "outputs": [
    {
     "name": "stdout",
     "output_type": "stream",
     "text": [
      "b\"INSERT INTO users (email, name,age,gender) VALUES ('email@email.com','name 1',12,'FEMALE');\"\n"
     ]
    }
   ],
   "source": [
    "def create_user(email,name,age,gender):\n",
    "    cursor = connection.cursor()\n",
    "    print(cursor.mogrify(insert_user_sql,(email,name,age,gender)))\n",
    "    \n",
    "create_user(\"email@email.com\",'name 1',12,'FEMALE')"
   ]
  },
  {
   "cell_type": "markdown",
   "id": "8a8fc6a1",
   "metadata": {},
   "source": [
    "## Code samples to handle sql connection"
   ]
  },
  {
   "cell_type": "markdown",
   "id": "b6226149",
   "metadata": {},
   "source": [
    "### You can use cursor after execute as an iterator"
   ]
  },
  {
   "cell_type": "code",
   "execution_count": 126,
   "id": "a1de4d89",
   "metadata": {
    "pycharm": {
     "name": "#%%\n"
    }
   },
   "outputs": [
    {
     "name": "stdout",
     "output_type": "stream",
     "text": [
      "(1, 'test@test.com', 'test user', 24, 'MALE      ')\n",
      "(2, 'test2@test2.com', 'test user number 2', 20, 'FEMALE    ')\n",
      "(4, 'test3@test3.com', 'test user number 3', 30, 'FEMALE    ')\n",
      "(7, 'test3@test4.com', 'test user number 4', 40, 'FEMALE    ')\n",
      "(9, 'test3@test4.com', 'test user number 4', 40, 'FEMALE    ')\n",
      "(10, 'test5@test5.com', 'test user number 5', 40, 'FEMALE    ')\n",
      "(11, 'test5@test5.com', 'test user number 5', 40, 'FEMALE    ')\n",
      "(12, 'test5@test5.com', 'test user number 5', 40, 'FEMALE    ')\n",
      "(14, 'test5@test5.com', 'test user number 5', 40, 'FEMALE    ')\n",
      "(15, 'test5@test5.com', 'test user number 5', 40, 'FEMALE    ')\n",
      "(16, 'test5@test5.com', 'test user number 5', 40, 'FEMALE    ')\n",
      "(17, 'test5@test17.com', 'test user number 5', 40, 'FEMALE    ')\n"
     ]
    }
   ],
   "source": [
    "cursor = connection.cursor()\n",
    "cursor.execute(\"SELECT * from users;\")\n",
    "for record in cursor:\n",
    "    print(record)\n",
    "\n",
    "\n",
    "        "
   ]
  },
  {
   "cell_type": "markdown",
   "id": "a5546629",
   "metadata": {},
   "source": [
    "### Or you can use fetchmany which returns a list"
   ]
  },
  {
   "cell_type": "code",
   "execution_count": 52,
   "id": "dfee8e62",
   "metadata": {
    "pycharm": {
     "name": "#%%\n"
    }
   },
   "outputs": [
    {
     "name": "stdout",
     "output_type": "stream",
     "text": [
      "(1, 'test@test.com', 'test user', 24, 'MALE      ')\n",
      "(2, 'test2@test2.com', 'test user number 2', 20, 'FEMALE    ')\n",
      "(4, 'test3@test3.com', 'test user number 3', 30, 'FEMALE    ')\n",
      "(7, 'test3@test4.com', 'test user number 4', 40, 'FEMALE    ')\n"
     ]
    }
   ],
   "source": [
    "with connection:\n",
    "    with connection.cursor() as curs:\n",
    "        curs.execute(\"SELECT * from users;\")\n",
    "        for record in curs.fetchmany(5):\n",
    "            print(record)"
   ]
  },
  {
   "cell_type": "markdown",
   "id": "766d232a",
   "metadata": {},
   "source": [
    "### You can call store procedure in PostgreSQL using cursor.execute(CALL procedure_name)"
   ]
  },
  {
   "cell_type": "code",
   "execution_count": 139,
   "id": "a280df01",
   "metadata": {},
   "outputs": [],
   "source": [
    "with connection:\n",
    "    with connection.cursor() as cursor:\n",
    "        cursor.execute(\"CALL transfer(%s,%s,%s)\",(2,1,300))\n",
    "    "
   ]
  },
  {
   "cell_type": "markdown",
   "id": "5608bea8",
   "metadata": {},
   "source": [
    "  ### Dont forget to close connection at the end"
   ]
  },
  {
   "cell_type": "code",
   "execution_count": 141,
   "id": "a51f3b17",
   "metadata": {},
   "outputs": [],
   "source": [
    "connection.close()"
   ]
  }
 ],
 "metadata": {
  "kernelspec": {
   "display_name": "venv",
   "language": "python",
   "name": "venv"
  },
  "language_info": {
   "codemirror_mode": {
    "name": "ipython",
    "version": 3
   },
   "file_extension": ".py",
   "mimetype": "text/x-python",
   "name": "python",
   "nbconvert_exporter": "python",
   "pygments_lexer": "ipython3",
   "version": "3.8.15"
  }
 },
 "nbformat": 4,
 "nbformat_minor": 5
}
