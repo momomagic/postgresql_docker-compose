{
 "cells": [
  {
   "cell_type": "markdown",
   "id": "4acd9d91-9356-4b03-b58a-c69c80d33d86",
   "metadata": {
    "pycharm": {
     "name": "#%% md\n"
    }
   },
   "source": [
    "# Connecting Python with databases"
   ]
  },
  {
   "cell_type": "markdown",
   "id": "f88bf4b6-20df-4f19-b0c4-be48d831336c",
   "metadata": {
    "pycharm": {
     "name": "#%% md\n"
    }
   },
   "source": [
    "### Required packages for connecting python with postgreSQL"
   ]
  },
  {
   "cell_type": "code",
   "execution_count": 1,
   "id": "be4ff56c-78de-4006-a770-2586266b6c6a",
   "metadata": {
    "pycharm": {
     "name": "#%%\n"
    }
   },
   "outputs": [
    {
     "name": "stdout",
     "output_type": "stream",
     "text": [
      "ERROR:root:code for hash md5 was not found.\n",
      "Traceback (most recent call last):\n",
      "  File \"/usr/local/Cellar/python@2/2.7.15/Frameworks/Python.framework/Versions/2.7/lib/python2.7/hashlib.py\", line 147, in <module>\n",
      "    globals()[__func_name] = __get_hash(__func_name)\n",
      "  File \"/usr/local/Cellar/python@2/2.7.15/Frameworks/Python.framework/Versions/2.7/lib/python2.7/hashlib.py\", line 97, in __get_builtin_constructor\n",
      "    raise ValueError('unsupported hash type ' + name)\n",
      "ValueError: unsupported hash type md5\n",
      "ERROR:root:code for hash sha1 was not found.\n",
      "Traceback (most recent call last):\n",
      "  File \"/usr/local/Cellar/python@2/2.7.15/Frameworks/Python.framework/Versions/2.7/lib/python2.7/hashlib.py\", line 147, in <module>\n",
      "    globals()[__func_name] = __get_hash(__func_name)\n",
      "  File \"/usr/local/Cellar/python@2/2.7.15/Frameworks/Python.framework/Versions/2.7/lib/python2.7/hashlib.py\", line 97, in __get_builtin_constructor\n",
      "    raise ValueError('unsupported hash type ' + name)\n",
      "ValueError: unsupported hash type sha1\n",
      "ERROR:root:code for hash sha224 was not found.\n",
      "Traceback (most recent call last):\n",
      "  File \"/usr/local/Cellar/python@2/2.7.15/Frameworks/Python.framework/Versions/2.7/lib/python2.7/hashlib.py\", line 147, in <module>\n",
      "    globals()[__func_name] = __get_hash(__func_name)\n",
      "  File \"/usr/local/Cellar/python@2/2.7.15/Frameworks/Python.framework/Versions/2.7/lib/python2.7/hashlib.py\", line 97, in __get_builtin_constructor\n",
      "    raise ValueError('unsupported hash type ' + name)\n",
      "ValueError: unsupported hash type sha224\n",
      "ERROR:root:code for hash sha256 was not found.\n",
      "Traceback (most recent call last):\n",
      "  File \"/usr/local/Cellar/python@2/2.7.15/Frameworks/Python.framework/Versions/2.7/lib/python2.7/hashlib.py\", line 147, in <module>\n",
      "    globals()[__func_name] = __get_hash(__func_name)\n",
      "  File \"/usr/local/Cellar/python@2/2.7.15/Frameworks/Python.framework/Versions/2.7/lib/python2.7/hashlib.py\", line 97, in __get_builtin_constructor\n",
      "    raise ValueError('unsupported hash type ' + name)\n",
      "ValueError: unsupported hash type sha256\n",
      "ERROR:root:code for hash sha384 was not found.\n",
      "Traceback (most recent call last):\n",
      "  File \"/usr/local/Cellar/python@2/2.7.15/Frameworks/Python.framework/Versions/2.7/lib/python2.7/hashlib.py\", line 147, in <module>\n",
      "    globals()[__func_name] = __get_hash(__func_name)\n",
      "  File \"/usr/local/Cellar/python@2/2.7.15/Frameworks/Python.framework/Versions/2.7/lib/python2.7/hashlib.py\", line 97, in __get_builtin_constructor\n",
      "    raise ValueError('unsupported hash type ' + name)\n",
      "ValueError: unsupported hash type sha384\n",
      "ERROR:root:code for hash sha512 was not found.\n",
      "Traceback (most recent call last):\n",
      "  File \"/usr/local/Cellar/python@2/2.7.15/Frameworks/Python.framework/Versions/2.7/lib/python2.7/hashlib.py\", line 147, in <module>\n",
      "    globals()[__func_name] = __get_hash(__func_name)\n",
      "  File \"/usr/local/Cellar/python@2/2.7.15/Frameworks/Python.framework/Versions/2.7/lib/python2.7/hashlib.py\", line 97, in __get_builtin_constructor\n",
      "    raise ValueError('unsupported hash type ' + name)\n",
      "ValueError: unsupported hash type sha512\n",
      "Traceback (most recent call last):\n",
      "  File \"/usr/local/bin/./pip\", line 10, in <module>\n",
      "    sys.exit(main())\n",
      "  File \"/usr/local/lib/python2.7/site-packages/pip/_internal/cli/main.py\", line 73, in main\n",
      "    command = create_command(cmd_name, isolated=(\"--isolated\" in cmd_args))\n",
      "  File \"/usr/local/lib/python2.7/site-packages/pip/_internal/commands/__init__.py\", line 96, in create_command\n",
      "    module = importlib.import_module(module_path)\n",
      "  File \"/usr/local/Cellar/python@2/2.7.15/Frameworks/Python.framework/Versions/2.7/lib/python2.7/importlib/__init__.py\", line 37, in import_module\n",
      "    __import__(name)\n",
      "  File \"/usr/local/lib/python2.7/site-packages/pip/_internal/commands/install.py\", line 24, in <module>\n",
      "    from pip._internal.cli.req_command import RequirementCommand\n",
      "  File \"/usr/local/lib/python2.7/site-packages/pip/_internal/cli/req_command.py\", line 15, in <module>\n",
      "    from pip._internal.index.package_finder import PackageFinder\n",
      "  File \"/usr/local/lib/python2.7/site-packages/pip/_internal/index/package_finder.py\", line 21, in <module>\n",
      "    from pip._internal.index.collector import parse_links\n",
      "  File \"/usr/local/lib/python2.7/site-packages/pip/_internal/index/collector.py\", line 12, in <module>\n",
      "    from pip._vendor import html5lib, requests\n",
      "  File \"/usr/local/lib/python2.7/site-packages/pip/_vendor/requests/__init__.py\", line 43, in <module>\n",
      "    from pip._vendor import urllib3\n",
      "  File \"/usr/local/lib/python2.7/site-packages/pip/_vendor/urllib3/__init__.py\", line 7, in <module>\n",
      "    from .connectionpool import HTTPConnectionPool, HTTPSConnectionPool, connection_from_url\n",
      "  File \"/usr/local/lib/python2.7/site-packages/pip/_vendor/urllib3/connectionpool.py\", line 29, in <module>\n",
      "    from .connection import (\n",
      "  File \"/usr/local/lib/python2.7/site-packages/pip/_vendor/urllib3/connection.py\", line 40, in <module>\n",
      "    from .util.ssl_ import (\n",
      "  File \"/usr/local/lib/python2.7/site-packages/pip/_vendor/urllib3/util/__init__.py\", line 7, in <module>\n",
      "    from .ssl_ import (\n",
      "  File \"/usr/local/lib/python2.7/site-packages/pip/_vendor/urllib3/util/ssl_.py\", line 8, in <module>\n",
      "    from hashlib import md5, sha1, sha256\n",
      "ImportError: cannot import name md5\n"
     ]
    }
   ],
   "source": [
    "!pip install psycopg2"
   ]
  },
  {
   "cell_type": "markdown",
   "id": "863add87-1227-4bb6-962d-63bb48d57ba9",
   "metadata": {
    "pycharm": {
     "name": "#%% md\n"
    }
   },
   "source": [
    "## Things to do before starting with the notebook\n",
    "* You should have the database server up and running\n",
    "* You can create a user only for this notebook with permission to a given database"
   ]
  },
  {
   "cell_type": "code",
   "execution_count": null,
   "id": "cda16fb1-d43e-4c03-a0d7-f4dd81266542",
   "metadata": {
    "pycharm": {
     "name": "#%%\n"
    }
   },
   "outputs": [],
   "source": [
    "import psycopg2"
   ]
  },
  {
   "cell_type": "markdown",
   "id": "b25785e4-3fd2-4a7b-ab3c-8c9c89cc68f7",
   "metadata": {
    "pycharm": {
     "name": "#%% md\n"
    }
   },
   "source": [
    "### Establishing the connection"
   ]
  },
  {
   "cell_type": "code",
   "execution_count": null,
   "id": "25d92b85-eadb-40a7-9389-f0e4fd160be8",
   "metadata": {
    "pycharm": {
     "name": "#%%\n"
    }
   },
   "outputs": [],
   "source": [
    "connection = psycopg2.connect(\n",
    "   database=\"postgres\",\n",
    "    user='postgres',\n",
    "    password='postgres',\n",
    "    host='db',\n",
    "    port= '5432'\n",
    ")\n",
    "connection"
   ]
  },
  {
   "cell_type": "markdown",
   "id": "ac7fed59-db78-4f42-8f3e-3ac6f7a1e6ab",
   "metadata": {
    "pycharm": {
     "name": "#%% md\n"
    }
   },
   "source": [
    "### Holding the cursor"
   ]
  },
  {
   "cell_type": "code",
   "execution_count": null,
   "id": "4212e8d3-edf0-484a-b945-3929f28e33e9",
   "metadata": {
    "pycharm": {
     "name": "#%%\n"
    }
   },
   "outputs": [],
   "source": [
    "cursor = connection.cursor()"
   ]
  },
  {
   "cell_type": "markdown",
   "id": "eb6fce7f-aaad-41f9-9a21-32ba0c3c97c2",
   "metadata": {
    "pycharm": {
     "name": "#%% md\n"
    }
   },
   "source": [
    "## Organizing connection to python in a single query"
   ]
  },
  {
   "cell_type": "code",
   "execution_count": null,
   "id": "98c97f65-f346-41e2-b08d-7d5d25412ec2",
   "metadata": {
    "pycharm": {
     "name": "#%%\n"
    }
   },
   "outputs": [],
   "source": [
    "def execute_query(connection, query):\n",
    "    #Do we really need autocommit\n",
    "    connection.autocommit = True\n",
    "    cursor = connection.cursor()\n",
    "    try:\n",
    "        cursor.execute(query)\n",
    "    except OperationalError as e:\n",
    "        print(f\"The error '{e}' occurred\")"
   ]
  },
  {
   "cell_type": "code",
   "execution_count": null,
   "id": "893efd31-3907-4630-8162-f492b50f6de5",
   "metadata": {
    "pycharm": {
     "name": "#%%\n"
    }
   },
   "outputs": [],
   "source": [
    "def execute_query_with_cntx_mngr(connection, query):\n",
    "    with connection:\n",
    "        with connection.cursor() as curs:\n",
    "            curs.execute(query)"
   ]
  },
  {
   "cell_type": "markdown",
   "id": "5f889f90-7938-40cc-8b2e-8690cf549d5f",
   "metadata": {
    "pycharm": {
     "name": "#%% md\n"
    }
   },
   "source": [
    "## Use case"
   ]
  },
  {
   "cell_type": "code",
   "execution_count": null,
   "id": "fb16bf7d-781a-402b-ab06-4d0952a19c43",
   "metadata": {
    "pycharm": {
     "name": "#%%\n"
    }
   },
   "outputs": [],
   "source": [
    "![usecase](img.png \"Usecase\")"
   ]
  }
 ],
 "metadata": {
  "kernelspec": {
   "display_name": "Python 3 (ipykernel)",
   "language": "python",
   "name": "python3"
  },
  "language_info": {
   "codemirror_mode": {
    "name": "ipython",
    "version": 3
   },
   "file_extension": ".py",
   "mimetype": "text/x-python",
   "name": "python",
   "nbconvert_exporter": "python",
   "pygments_lexer": "ipython3",
   "version": "3.8.13"
  }
 },
 "nbformat": 4,
 "nbformat_minor": 5
}
