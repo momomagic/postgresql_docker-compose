{
 "cells": [
  {
   "cell_type": "markdown",
   "id": "4b176b97",
   "metadata": {},
   "source": [
    "![image](img.png)"
   ]
  },
  {
   "cell_type": "markdown",
   "id": "76a5c139",
   "metadata": {},
   "source": [
    "# Arbetsuppgift 1 - Investment bolag"
   ]
  },
  {
   "cell_type": "markdown",
   "id": "93f538f0",
   "metadata": {},
   "source": [
    "Du jobbar som databasutvecklare på en investment bolag i stockholm , Företaget investerar i olika industrier och olika bolag .\n",
    "Syftet meed lösningen är att ta reda på vilka företag som är aktiva i sverige och fortsätta ha koll på de företag de investerar i .\n"
   ]
  },
  {
   "cell_type": "markdown",
   "id": "7df16c24",
   "metadata": {},
   "source": [
    "### TechRadar"
   ]
  },
  {
   "cell_type": "code",
   "execution_count": null,
   "id": "24ede7f5",
   "metadata": {},
   "outputs": [],
   "source": [
    "När du började jobba som utvecklare i nya bolaget du har fått rekommendation på vilka teknik EA (Enterprise Architect)\n",
    "i bolaget har godkänt för använding . här är en lista av tekniker du bör använda i din lösningen."
   ]
  },
  {
   "cell_type": "markdown",
   "id": "b44f6024",
   "metadata": {},
   "source": [
    "* Python\n",
    "* PostgreSQL\n",
    "* Github\n",
    "* Visual studio code\n",
    "* DBViewer\n",
    "* PGAdmin"
   ]
  },
  {
   "cell_type": "markdown",
   "id": "a3f0aa77",
   "metadata": {},
   "source": [
    "## System beskrivning"
   ]
  },
  {
   "cell_type": "markdown",
   "id": "677f9223",
   "metadata": {},
   "source": [
    "### Företag"
   ]
  },
  {
   "cell_type": "markdown",
   "id": "bbec0d29",
   "metadata": {},
   "source": [
    "Systemet sysftet är att kunna sparar all information om alla bolag i sverige , information som din investment bolag är intrsserad i är . \n",
    "* organisationsnummer \n",
    "   Ett organisationsnummer är en identitetsbeteckning för företag och föreningar\n",
    "* Namn (ska inte vara tom och max 100 bokstäver)\n",
    "* Hemsida (kan vara tom och har max 100 bokstäver)\n",
    "* Antal anställda  (Om inget angett ska antalet anställda vara 0)\n",
    "* Börsvärde i MSK  (Företaget värde när den registrerat är 0 MSK , den uppdateras årligen och om den är mindre än 1 MSEK ska den sparas som 0.2 t.ex\n",
    "* VD (Som måste finnas med och har max 100 bokstäver)\n",
    "* Ordförande (Som kan vara tom och har max 100 bokstäver)\n",
    "* Registreringsdatum (Om inget annat anget ska den vara dagens datum när företaget sparats i databasen )\n",
    "* Beskrivning av företaget i text format (Detta kan var tom)\n",
    "* Om ditt bolag investerar i detta bolag (Om inget angett den ska vara 'false'\n",
    "* Om ditt bolag investerar i detta bolag hur mycket har den investerats i MSK (Den kan var tom)"
   ]
  },
  {
   "cell_type": "markdown",
   "id": "49eeac30",
   "metadata": {},
   "source": [
    "### investerare"
   ]
  },
  {
   "cell_type": "markdown",
   "id": "c181d8a2",
   "metadata": {},
   "source": [
    "Ditt företag hanterar olika investerares investment och därför behöver företaget veta om alla investerare som investerar i företaget och detta information måste finnas i databasen \n",
    "\n",
    "* varje investerare får en unik id när han registrerar sig själv i företaget \n",
    "* Namn (kan inte vara tom och  har max 100 bokstäver)\n",
    "    * Tel nummer med landskod (Den kan vara tom och har max 30 siffror)  \n",
    "    * Email (Den kan vara tom och har max 100 bokstäver)  \n",
    "    #### Antningen email eller tel nummer måste finnas när investerare registrerar sig i systemet\n",
    "* Ålder\n",
    "* Hur mycket han investerar i MSK (Den kan vara tom)\n",
    "* Tidstämpel när han registrerats i databasen och om inget angett ska vara tiden när den skapas i databasen.\n",
    "* Vilken typ av investerare är denna kund (INDIVIDUAL,COMPANY,FIRM) och den måste finnas med för varje investerare\n"
   ]
  },
  {
   "cell_type": "markdown",
   "id": "86d78056",
   "metadata": {},
   "source": [
    "### ProduktÄgares krav"
   ]
  },
  {
   "cell_type": "markdown",
   "id": "65f564ae",
   "metadata": {},
   "source": [
    "Produkt ägare kommer till dig innan du börjar med lösningen och frågar om följande \n",
    "* Systemet ska ha tre användare \n",
    "    * **auditor** (ska ha alla rättigheter i databasen för att kunna se ändringar och data)\n",
    "    * **customers_relation** (kan se bara investerares data och inte företags data)\n",
    "    * **companies_relation** (Kan se bara företags data och inte investerares data)\n",
    "* Alla användare kan logga in med en lösenord till databasen"
   ]
  },
  {
   "cell_type": "markdown",
   "id": "d0e42a21",
   "metadata": {},
   "source": [
    "## Databasarkitekt krav"
   ]
  },
  {
   "cell_type": "markdown",
   "id": "8d029755",
   "metadata": {},
   "source": [
    "Företaget har en databasarkitekt som hjälper företaget att följa företagets riklinger i databas lösningar och han också kommer med en lista av krav \n",
    "\n",
    "* Alla tabeller namn och kolumner namn ska följa riktlinjer i postgreSQL naming\n",
    "* Utvecklare måste försöka att lägga CONSTRAINTS på alla kolumner för att undvika att fel värde sparas i databasen.\n",
    "* Utvecklare ska försöka att passa rätt data typer till kolumner \n",
    "* SQL kod ska vara Readable d.v.s att andra utvecklare i teamet kan förstå din kod"
   ]
  },
  {
   "cell_type": "markdown",
   "id": "cb4f29a7",
   "metadata": {},
   "source": [
    "### Testare krav"
   ]
  },
  {
   "cell_type": "markdown",
   "id": "59ac1ce1",
   "metadata": {},
   "source": [
    "En testare som jobbar i ditt team kommer med  **HOW TO TEST**  efter att han pratade med Produktägare och denna ska vara följt i order\n",
    "\n",
    "* INSERT INTO tables AT LEAST one row using all columns if possible\n",
    "* INSERT INTO tables AT LEAST one row by skipping default values so it gets default value \n",
    "* SELECT ALL FROM investers table ORDER BY timestamp DESC (newest customers first)\n",
    "* SELECT ALL FROM companies table WHERE value is larger than 4 MSK ORDER BY values DESC (Biggest value first)\n",
    "* SELECT ALL FROM companies table WHERE VD name starts with 'LARS' case insensitive (It filter all with LARS or lars)"
   ]
  },
  {
   "cell_type": "markdown",
   "id": "46b8db5c",
   "metadata": {},
   "source": [
    "### Hur lämnar uppgiften"
   ]
  },
  {
   "cell_type": "markdown",
   "id": "8289a7ff",
   "metadata": {},
   "source": [
    " - Du behöver lämna uppgiften i en SQL fil **code.sql** , den kan skickas till lärare som fil via email eller studentportalen innan **2022-11-30 23:00** \n",
    " - Använd kommentarer i sql filen för att berätta vad gör varje sql kommand \n",
    " - Studenter måste skapa minst **två tabeller**  \n",
    " - Studenter måste INSERTA minst **två rader**  i varje tabell\n",
    " - Studenter måste köra minst **två SELECT** kommand i filen . \n",
    " - Om studenten är osäker på vilken data typ eller Constraint kan gissa vilka som bäst passar kolumnen . "
   ]
  }
 ],
 "metadata": {
  "kernelspec": {
   "display_name": "venv",
   "language": "python",
   "name": "venv"
  },
  "language_info": {
   "codemirror_mode": {
    "name": "ipython",
    "version": 3
   },
   "file_extension": ".py",
   "mimetype": "text/x-python",
   "name": "python",
   "nbconvert_exporter": "python",
   "pygments_lexer": "ipython3",
   "version": "3.8.15"
  }
 },
 "nbformat": 4,
 "nbformat_minor": 5
}
