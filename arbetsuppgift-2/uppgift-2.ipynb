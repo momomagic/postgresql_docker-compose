{
 "cells": [
  {
   "cell_type": "markdown",
   "id": "4b176b97",
   "metadata": {
    "pycharm": {
     "name": "#%% md\n"
    }
   },
   "source": [
    "![image](img.png)"
   ]
  },
  {
   "cell_type": "markdown",
   "id": "76a5c139",
   "metadata": {
    "pycharm": {
     "name": "#%% md\n"
    }
   },
   "source": [
    "# Arbetsuppgift 2 - Investment bolag"
   ]
  },
  {
   "cell_type": "markdown",
   "id": "93f538f0",
   "metadata": {
    "pycharm": {
     "name": "#%% md\n"
    }
   },
   "source": [
    "Bra jobbat med första uppgift i företaget .\n",
    "Denna uppgift handlar om att utöka funktionalitet av tidigare system ,\n",
    "\n",
    "Vi ska jobba med den databas du skapade i första uppgiften och fortsätta bygga på .\n",
    "<br /><br /><br />\n",
    "\n"
   ]
  },
  {
   "cell_type": "markdown",
   "id": "7df16c24",
   "metadata": {
    "pycharm": {
     "name": "#%% md\n"
    }
   },
   "source": [
    "## Investerare vill investera i olika företag i systemet"
   ]
  },
  {
   "cell_type": "markdown",
   "source": [
    "![image](erd.png)"
   ],
   "metadata": {
    "collapsed": false,
    "pycharm": {
     "name": "#%% md\n"
    }
   }
  },
  {
   "cell_type": "markdown",
   "source": [
    "## Del 1\n",
    " **Skapa en ny tabell för att behålla investeringar** <br/>\n",
    "    Tabell ska användas för att låta investerare investera i ett företag <br/>\n",
    "    __Kom ihåg att använda PK och FK (references) för att koppla tabeller__"
   ],
   "metadata": {
    "collapsed": false,
    "pycharm": {
     "name": "#%% md\n"
    }
   }
  },
  {
   "cell_type": "markdown",
   "source": [
    "## Del 2\n",
    "\n",
    "Vi behöver börja implementera funktioner i python för att koppla mot din databas under"
   ],
   "metadata": {
    "collapsed": false,
    "pycharm": {
     "name": "#%% md\n"
    }
   },
   "outputs": [
    {
     "ename": "SyntaxError",
     "evalue": "invalid syntax (1648819600.py, line 3)",
     "output_type": "error",
     "traceback": [
      "\u001B[0;36m  Cell \u001B[0;32mIn [1], line 3\u001B[0;36m\u001B[0m\n\u001B[0;31m    Vi behöver börja implementera funktioner i python för att koppla mot din databas\u001B[0m\n\u001B[0m       ^\u001B[0m\n\u001B[0;31mSyntaxError\u001B[0m\u001B[0;31m:\u001B[0m invalid syntax\n"
     ]
    }
   ],
   "execution_count": 1
  },
  {
   "cell_type": "code",
   "execution_count": 5,
   "outputs": [],
   "source": [
    "import psycopg2 as postgres"
   ],
   "metadata": {
    "collapsed": false,
    "pycharm": {
     "name": "#%%\n"
    }
   }
  },
  {
   "cell_type": "code",
   "execution_count": 6,
   "outputs": [
    {
     "ename": "OperationalError",
     "evalue": "connection to server at \"127.0.0.1\", port 5432 failed: fe_sendauth: no password supplied\n",
     "output_type": "error",
     "traceback": [
      "\u001B[0;31m---------------------------------------------------------------------------\u001B[0m",
      "\u001B[0;31mOperationalError\u001B[0m                          Traceback (most recent call last)",
      "Cell \u001B[0;32mIn [6], line 2\u001B[0m\n\u001B[1;32m      1\u001B[0m \u001B[38;5;66;03m# connection for super user\u001B[39;00m\n\u001B[0;32m----> 2\u001B[0m connection_super_user \u001B[38;5;241m=\u001B[39m \u001B[43mpostgres\u001B[49m\u001B[38;5;241;43m.\u001B[39;49m\u001B[43mconnect\u001B[49m\u001B[43m(\u001B[49m\n\u001B[1;32m      3\u001B[0m \u001B[43m    \u001B[49m\u001B[43mdatabase\u001B[49m\u001B[38;5;241;43m=\u001B[39;49m\u001B[38;5;124;43m\"\u001B[39;49m\u001B[38;5;124;43m\"\u001B[39;49m\u001B[43m,\u001B[49m\u001B[43m  \u001B[49m\u001B[38;5;66;43;03m# use database name\u001B[39;49;00m\n\u001B[1;32m      4\u001B[0m \u001B[43m    \u001B[49m\u001B[43muser\u001B[49m\u001B[38;5;241;43m=\u001B[39;49m\u001B[38;5;124;43m'\u001B[39;49m\u001B[38;5;124;43m'\u001B[39;49m\u001B[43m,\u001B[49m\u001B[43m \u001B[49m\u001B[38;5;66;43;03m# use username you used for super user\u001B[39;49;00m\n\u001B[1;32m      5\u001B[0m \u001B[43m    \u001B[49m\u001B[43mpassword\u001B[49m\u001B[38;5;241;43m=\u001B[39;49m\u001B[38;5;124;43m'\u001B[39;49m\u001B[38;5;124;43m'\u001B[39;49m\u001B[43m,\u001B[49m\u001B[43m \u001B[49m\u001B[38;5;66;43;03m# use password you used for super user\u001B[39;49;00m\n\u001B[1;32m      6\u001B[0m \u001B[43m    \u001B[49m\u001B[43mhost\u001B[49m\u001B[38;5;241;43m=\u001B[39;49m\u001B[38;5;124;43m'\u001B[39;49m\u001B[38;5;124;43m127.0.0.1\u001B[39;49m\u001B[38;5;124;43m'\u001B[39;49m\u001B[43m,\u001B[49m\n\u001B[1;32m      7\u001B[0m \u001B[43m    \u001B[49m\u001B[43mport\u001B[49m\u001B[38;5;241;43m=\u001B[39;49m\u001B[43m \u001B[49m\u001B[38;5;124;43m'\u001B[39;49m\u001B[38;5;124;43m5432\u001B[39;49m\u001B[38;5;124;43m'\u001B[39;49m\n\u001B[1;32m      8\u001B[0m \u001B[43m)\u001B[49m\n\u001B[1;32m     10\u001B[0m \u001B[38;5;66;03m# connection for companies relations\u001B[39;00m\n\u001B[1;32m     11\u001B[0m connection_companies_relation \u001B[38;5;241m=\u001B[39m postgres\u001B[38;5;241m.\u001B[39mconnect(\n\u001B[1;32m     12\u001B[0m     database\u001B[38;5;241m=\u001B[39m\u001B[38;5;124m\"\u001B[39m\u001B[38;5;124m\"\u001B[39m,  \u001B[38;5;66;03m# use database name\u001B[39;00m\n\u001B[1;32m     13\u001B[0m     user\u001B[38;5;241m=\u001B[39m\u001B[38;5;124m'\u001B[39m\u001B[38;5;124m'\u001B[39m, \u001B[38;5;66;03m# use username you used for companies_relation user\u001B[39;00m\n\u001B[0;32m   (...)\u001B[0m\n\u001B[1;32m     16\u001B[0m     port\u001B[38;5;241m=\u001B[39m \u001B[38;5;124m'\u001B[39m\u001B[38;5;124m5432\u001B[39m\u001B[38;5;124m'\u001B[39m\n\u001B[1;32m     17\u001B[0m )\n",
      "File \u001B[0;32m~/Developer/nakadimin/postgreSQL-docker-compose/venv/lib/python3.8/site-packages/psycopg2/__init__.py:122\u001B[0m, in \u001B[0;36mconnect\u001B[0;34m(dsn, connection_factory, cursor_factory, **kwargs)\u001B[0m\n\u001B[1;32m    119\u001B[0m     kwasync[\u001B[38;5;124m'\u001B[39m\u001B[38;5;124masync_\u001B[39m\u001B[38;5;124m'\u001B[39m] \u001B[38;5;241m=\u001B[39m kwargs\u001B[38;5;241m.\u001B[39mpop(\u001B[38;5;124m'\u001B[39m\u001B[38;5;124masync_\u001B[39m\u001B[38;5;124m'\u001B[39m)\n\u001B[1;32m    121\u001B[0m dsn \u001B[38;5;241m=\u001B[39m _ext\u001B[38;5;241m.\u001B[39mmake_dsn(dsn, \u001B[38;5;241m*\u001B[39m\u001B[38;5;241m*\u001B[39mkwargs)\n\u001B[0;32m--> 122\u001B[0m conn \u001B[38;5;241m=\u001B[39m \u001B[43m_connect\u001B[49m\u001B[43m(\u001B[49m\u001B[43mdsn\u001B[49m\u001B[43m,\u001B[49m\u001B[43m \u001B[49m\u001B[43mconnection_factory\u001B[49m\u001B[38;5;241;43m=\u001B[39;49m\u001B[43mconnection_factory\u001B[49m\u001B[43m,\u001B[49m\u001B[43m \u001B[49m\u001B[38;5;241;43m*\u001B[39;49m\u001B[38;5;241;43m*\u001B[39;49m\u001B[43mkwasync\u001B[49m\u001B[43m)\u001B[49m\n\u001B[1;32m    123\u001B[0m \u001B[38;5;28;01mif\u001B[39;00m cursor_factory \u001B[38;5;129;01mis\u001B[39;00m \u001B[38;5;129;01mnot\u001B[39;00m \u001B[38;5;28;01mNone\u001B[39;00m:\n\u001B[1;32m    124\u001B[0m     conn\u001B[38;5;241m.\u001B[39mcursor_factory \u001B[38;5;241m=\u001B[39m cursor_factory\n",
      "\u001B[0;31mOperationalError\u001B[0m: connection to server at \"127.0.0.1\", port 5432 failed: fe_sendauth: no password supplied\n"
     ]
    }
   ],
   "source": [
    "\n",
    "# connection for super user\n",
    "connection_super_user = postgres.connect(\n",
    "    database=\"\",  # use database name\n",
    "    user='', # use username you used for super user\n",
    "    password='', # use password you used for super user\n",
    "    host='127.0.0.1',\n",
    "    port= '5432'\n",
    ")\n",
    "\n",
    "# connection for companies relations\n",
    "connection_companies_relation = postgres.connect(\n",
    "    database=\"\",  # use database name\n",
    "    user='', # use username you used for companies_relation user\n",
    "    password='', # use password you used for  companies_relation user\n",
    "    host='127.0.0.1',\n",
    "    port= '5432'\n",
    ")\n",
    "\n",
    "#connection for companies relations\n",
    "connection_customers_relation = postgres.connect(\n",
    "    database=\"\",  # use database name\n",
    "    user='', # use username you used for customers_relation user\n",
    "    password='', # use password you used for  customers_relation user\n",
    "    host='127.0.0.1',\n",
    "    port= '5432'\n",
    ")"
   ],
   "metadata": {
    "collapsed": false,
    "pycharm": {
     "name": "#%%\n"
    }
   }
  },
  {
   "cell_type": "markdown",
   "source": [
    "### Addera ny investerare i investerare tabel"
   ],
   "metadata": {
    "collapsed": false,
    "pycharm": {
     "name": "#%% md\n"
    }
   }
  },
  {
   "cell_type": "code",
   "execution_count": null,
   "outputs": [],
   "source": [
    "def add_new_investor(connection,name,email=None,tel_no=None,age=None,type='COMPANY'):\n",
    "    if tel_no is None and email is None:\n",
    "        raise TypeError(\"email and name could \")\n",
    "    #Fill function to insert new users\n"
   ],
   "metadata": {
    "collapsed": false,
    "pycharm": {
     "name": "#%%\n"
    }
   }
  },
  {
   "cell_type": "code",
   "execution_count": null,
   "outputs": [],
   "source": [
    "# call yout function to insert new investor using customers_relation connection and fill data\n",
    "add_new_investor()"
   ],
   "metadata": {
    "collapsed": false,
    "pycharm": {
     "name": "#%%\n"
    }
   }
  },
  {
   "cell_type": "code",
   "execution_count": 7,
   "outputs": [],
   "source": [
    "from datetime import datetime\n",
    "\n",
    "current_time = datetime.now()"
   ],
   "metadata": {
    "collapsed": false,
    "pycharm": {
     "name": "#%%\n"
    }
   }
  },
  {
   "cell_type": "code",
   "execution_count": null,
   "outputs": [],
   "source": [
    "def add_new_company(connection,org_number,name,vd,web_site=None,total_employees=0,value=0,president,registration_date=current_time,description=None,invested=False,total_investments=None):\n",
    "    pass #replace pass with actual code for insertion"
   ],
   "metadata": {
    "collapsed": false,
    "pycharm": {
     "name": "#%%\n"
    }
   }
  },
  {
   "cell_type": "code",
   "execution_count": null,
   "outputs": [],
   "source": [
    "add_new_company(connection_companies_relation) # call add_new_company for adding new company"
   ],
   "metadata": {
    "collapsed": false,
    "pycharm": {
     "name": "#%%\n"
    }
   }
  },
  {
   "cell_type": "markdown",
   "source": [
    "### Investerare vill investera i ett företag"
   ],
   "metadata": {
    "collapsed": false,
    "pycharm": {
     "name": "#%% md\n"
    }
   }
  },
  {
   "cell_type": "code",
   "execution_count": 8,
   "outputs": [],
   "source": [
    "def invest_in_company(connection,investor_id,company_org_number,total_investments):\n",
    "    pass # implement the code to insert new row in this table"
   ],
   "metadata": {
    "collapsed": false,
    "pycharm": {
     "name": "#%%\n"
    }
   }
  },
  {
   "cell_type": "markdown",
   "source": [
    "## Reports"
   ],
   "metadata": {
    "collapsed": false,
    "pycharm": {
     "name": "#%% md\n"
    }
   }
  },
  {
   "cell_type": "markdown",
   "source": [
    "### Skriva ut en lista med alla investerare sorterats på när de registrerats"
   ],
   "metadata": {
    "collapsed": false,
    "pycharm": {
     "name": "#%% md\n"
    }
   }
  },
  {
   "cell_type": "code",
   "execution_count": null,
   "outputs": [],
   "source": [
    "def print_out_all_investors_sorted_by_reg_date(connection):\n",
    "    pass\n",
    "print_out_all_investors_sorted_by_reg_date(connection_customers_relation)"
   ],
   "metadata": {
    "collapsed": false,
    "pycharm": {
     "name": "#%%\n"
    }
   }
  },
  {
   "cell_type": "markdown",
   "source": [
    "### Visa en lista med alla bolag sorterats på börsvärde"
   ],
   "metadata": {
    "collapsed": false,
    "pycharm": {
     "name": "#%% md\n"
    }
   }
  },
  {
   "cell_type": "code",
   "execution_count": null,
   "outputs": [],
   "source": [
    "def print_out_all_companies_sorted_by_value(connection):\n",
    "    pass\n",
    "print_out_all_companies_sorted_by_value(connection_companies_relation)"
   ],
   "metadata": {
    "collapsed": false,
    "pycharm": {
     "name": "#%%\n"
    }
   }
  },
  {
   "cell_type": "markdown",
   "source": [
    "### Sök på investerare som kan ha en liknande namn"
   ],
   "metadata": {
    "collapsed": false,
    "pycharm": {
     "name": "#%% md\n"
    }
   }
  },
  {
   "cell_type": "code",
   "execution_count": null,
   "outputs": [],
   "source": [
    "def search_for_investors(connection,name):\n",
    "    pass\n",
    "\n",
    "search_for_investors(connection_customers_relation,\"Lars\")"
   ],
   "metadata": {
    "collapsed": false,
    "pycharm": {
     "name": "#%%\n"
    }
   }
  },
  {
   "cell_type": "markdown",
   "source": [
    "### EXTRA: Välj en av uppgifter redan eller både\n",
    "\n",
    "### Visa den företag med mest investeringar\n",
    "    * Du behöver joina **companies** tabell med **investments** tabell , glöm int att använda (on companies.company_id = investments.company_id) <br/>\n",
    "    * Gruppera på org_number och använda SUM som aggregering funktion till amount kolumn **SUM(investments.amount)**  <br/>\n",
    "    * Sortera baserat på sum(investments.amount) och det ska vara ** DESC **  <br/>\n",
    "    * Visa bara en rad med **LIMIT**"
   ],
   "metadata": {
    "collapsed": false,
    "pycharm": {
     "name": "#%% md\n"
    }
   }
  },
  {
   "cell_type": "markdown",
   "source": [
    "\n",
    "### Visa den investerare som investerats mest\n",
    "    * Du behöver joina **investors** tabell med **investments** tabell , glöm int att använda (on investors.investor_id = investments.investor_id) <br/>\n",
    "    * Gruppera på investor_id och använda SUM som aggregering funktion till amount kolumn **SUM(investments.amount)**  <br/>\n",
    "    * Sortera baserat på sum(investments.amount) och det ska vara ** DESC **  <br/>\n",
    "    * Visa bara en rad med **LIMIT**"
   ],
   "metadata": {
    "collapsed": false,
    "pycharm": {
     "name": "#%% md\n"
    }
   }
  },
  {
   "cell_type": "markdown",
   "id": "677f9223",
   "metadata": {
    "pycharm": {
     "name": "#%% md\n"
    }
   },
   "source": []
  }
 ],
 "metadata": {
  "kernelspec": {
   "display_name": "venv",
   "language": "python",
   "name": "venv"
  },
  "language_info": {
   "codemirror_mode": {
    "name": "ipython",
    "version": 3
   },
   "file_extension": ".py",
   "mimetype": "text/x-python",
   "name": "python",
   "nbconvert_exporter": "python",
   "pygments_lexer": "ipython3",
   "version": "3.8.15"
  }
 },
 "nbformat": 4,
 "nbformat_minor": 5
}