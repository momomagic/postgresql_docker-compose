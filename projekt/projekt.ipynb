{
 "cells": [
  {
   "cell_type": "markdown",
   "id": "4b176b97",
   "metadata": {
    "pycharm": {
     "name": "#%% md\n"
    }
   },
   "source": [
    "![image](img.png)"
   ]
  },
  {
   "cell_type": "markdown",
   "id": "76a5c139",
   "metadata": {
    "pycharm": {
     "name": "#%% md\n"
    }
   },
   "source": [
    "# Projekt  - Investment bolag"
   ]
  },
  {
   "cell_type": "markdown",
   "id": "93f538f0",
   "metadata": {
    "pycharm": {
     "name": "#%% md\n"
    }
   },
   "source": [
    "## Välommen till Investment bolag projektet\n",
    "\n",
    "Denna projekt består av 7 delar . för att bli godkänt behöver du lösa **4 av 7** ."
   ]
  },
  {
   "cell_type": "markdown",
   "source": [
    "## DEL 1 - Räkna is_invested och total_investments till varje bolag"
   ],
   "metadata": {
    "collapsed": false,
    "pycharm": {
     "name": "#%% md\n"
    }
   }
  },
  {
   "cell_type": "markdown",
   "source": [
    "När en investerare investerar i ett bolag (**is_invested** och **total_investments** )updateras inte automatisk , och vi behöver att köra en store procedure som kan ta ett företag org_number och updaterar **is_invested** och **total_investments** kolumner )\n",
    "Jag bifogar store procedure första kod kompletera gärna med egna kod\n",
    "* Byt data typ till org nummer typ du valde i företag och investments tabell\n",
    "* Ersätt TABLE_NAME med företags tabell och kolumn namn och fyll kod med select is_invested OBS (SELECT count(*) > 0 eller **EXISTS** för att returnera true/false\n",
    "* Ersätt TABLE_NAME med företags tabell och kolumn namn och fyll kod med select total_investments (SELECT SUM(amount) med group by)\n",
    "*\n"
   ],
   "metadata": {
    "collapsed": false,
    "pycharm": {
     "name": "#%% md\n"
    }
   }
  },
  {
   "cell_type": "code",
   "execution_count": 1,
   "outputs": [
    {
     "name": "stderr",
     "output_type": "stream",
     "text": [
      "UsageError: Line magic function `%sql` not found.\n"
     ]
    }
   ],
   "source": [
    "CREATE OR REPLACE PROCEDURE update_is_invested (org_number (INT OR VARCHAR)) LANGUAGE PLPGSQL AS $$\n",
    "DECLARE\n",
    "begin\n",
    "\n",
    "    UPDATE COMPANY_TABLE_NAME\n",
    "    SET is_invested_column_name = (SELECT ....)\n",
    "    WHERE org_number_column_name = org_number;\n",
    "\n",
    "    UPDATE COMPANY_TABLE_NAME\n",
    "    SET total_investments_column_name = (SELECT ....)\n",
    "    WHERE org_number_column_name = org_number;\n",
    "\n",
    "\n",
    "end;$$"
   ],
   "metadata": {
    "collapsed": false,
    "pycharm": {
     "name": "#%%\n"
    }
   }
  },
  {
   "cell_type": "markdown",
   "source": [
    "## DEL 2 - Lägg till login funktion med lösenord för att underlätta för investerare att logga in\n",
    "\n",
    "Följ instruktioner i denna [link](https://x-team.com/blog/storing-secure-passwords-with-postgresql/)"
   ],
   "metadata": {
    "collapsed": false,
    "pycharm": {
     "name": "#%% md\n"
    }
   },
   "outputs": [
    {
     "ename": "SyntaxError",
     "evalue": "invalid syntax (1648819600.py, line 3)",
     "output_type": "error",
     "traceback": [
      "\u001B[0;36m  Cell \u001B[0;32mIn [1], line 3\u001B[0;36m\u001B[0m\n\u001B[0;31m    Vi behöver börja implementera funktioner i python för att koppla mot din databas\u001B[0m\n\u001B[0m       ^\u001B[0m\n\u001B[0;31mSyntaxError\u001B[0m\u001B[0;31m:\u001B[0m invalid syntax\n"
     ]
    }
   ],
   "execution_count": 1
  },
  {
   "cell_type": "markdown",
   "source": [
    "## DEL 3 - Skapa 2 VIEW med de sista 2 queries i uppgift 2\n",
    "I slutet av uppgift 2 vi har två **SELECT** queries kan du spara de till VIEW i postgresSQL"
   ],
   "metadata": {
    "collapsed": false,
    "pycharm": {
     "name": "#%% md\n"
    }
   }
  },
  {
   "cell_type": "markdown",
   "source": [
    "## DEL 4 - Returnera en funktion som Visar om investerare har investerat\n",
    "* Börja med skapa en funktion som ta en investerare_id\n",
    "* Funktionen ska hitta investerare i investments tabell\n",
    "* om investerare investerat i mindre än 1 MSK ska funktionen returnerar ELITE\n",
    "* om investerare investeratt mer än 1 MSK ska funktionen returnerar GOLD\n",
    "* om investerare har inte investerat i något bolag ska den returnera NEW\n",
    "* kolla på kod nedan ..."
   ],
   "metadata": {
    "collapsed": false,
    "pycharm": {
     "name": "#%% md\n"
    }
   }
  },
  {
   "cell_type": "code",
   "execution_count": null,
   "outputs": [],
   "source": [
    "create function is_investor(investor_id int)\n",
    "returns TEXT\n",
    "language plpgsql\n",
    "as\n",
    "$$\n",
    "declare\n",
    "   amount_invested integer;\n",
    "begin\n",
    "   select SUM(amount)\n",
    "   into amount_invested\n",
    "   from ....;\n",
    "\n",
    "   IF amount_invested > 1000000 THEN\n",
    "        return\n",
    "   ELSIF ...  THEN\n",
    "        return\n",
    "   ELSE\n",
    "        return\n",
    "   END IF;\n",
    "\n",
    "end;\n",
    "$$;\n",
    "\n",
    "\n",
    "#Then use function in select\n",
    "SELECT investor_id,is_investor(investor_id) AS is_investor from investors;"
   ],
   "metadata": {
    "collapsed": false,
    "pycharm": {
     "name": "#%%\n"
    }
   }
  },
  {
   "cell_type": "markdown",
   "source": [
    "## DEL 5 - INDEX\n",
    "Skapa INDEX på EN av **investerares namn** och **Företags vd** kolumner"
   ],
   "metadata": {
    "collapsed": false,
    "pycharm": {
     "name": "#%% md\n"
    }
   }
  },
  {
   "cell_type": "markdown",
   "source": [
    "## DEL 6 - I databasen vi har skapat\n",
    "* I Vilken NF 1, 2 , 3 och varför ?\n",
    "* Vilka är relationer mellan olika Tabeller M-M, 1-1, M-1  ?"
   ],
   "metadata": {
    "collapsed": false,
    "pycharm": {
     "name": "#%% md\n"
    }
   }
  },
  {
   "cell_type": "markdown",
   "source": [
    "## DEL 7 - Python funtion\n",
    "I denna del behöver du skapa en python funktion som ta bort investerare från systemet\n",
    "* Kolla om investerare existerar i **investors** om den inte existerar printa en varning\n",
    "* Ta bort alla investments som investeraren har gjort (EXTRA flytta de till investments arkiv tabell istället)\n",
    "* Ta bort investerare från investors tabell"
   ],
   "metadata": {
    "collapsed": false,
    "pycharm": {
     "name": "#%% md\n"
    }
   }
  },
  {
   "cell_type": "markdown",
   "source": [
    "## Överlämning\n",
    " * Om du har skrivit **SQL** kod som SP,index eller funtions spara de i *.sql fil\n",
    " * Om du har skrivit python kod du kan skriva den direkt i denna jupyter notebook\n",
    " * Om du har kommuntarer skriva de i kommentar CELL nere ,\n",
    " * Skicka alla filer till projekt överlämmning"
   ],
   "metadata": {
    "collapsed": false,
    "pycharm": {
     "name": "#%% md\n"
    }
   }
  },
  {
   "cell_type": "markdown",
   "id": "677f9223",
   "metadata": {
    "pycharm": {
     "name": "#%% md\n"
    }
   },
   "source": []
  }
 ],
 "metadata": {
  "kernelspec": {
   "display_name": "venv",
   "language": "python",
   "name": "venv"
  },
  "language_info": {
   "codemirror_mode": {
    "name": "ipython",
    "version": 3
   },
   "file_extension": ".py",
   "mimetype": "text/x-python",
   "name": "python",
   "nbconvert_exporter": "python",
   "pygments_lexer": "ipython3",
   "version": "3.8.15"
  }
 },
 "nbformat": 4,
 "nbformat_minor": 5
}
